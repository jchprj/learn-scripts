{
 "cells": [
  {
   "cell_type": "markdown",
   "metadata": {},
   "source": [
    "[ipywidgets - How to use the information that is entered in Jupyter Widgets-Date picker? - Stack Overflow](https://stackoverflow.com/questions/69167951/how-to-use-the-information-that-is-entered-in-jupyter-widgets-date-picker)"
   ]
  },
  {
   "cell_type": "code",
   "execution_count": 11,
   "metadata": {
    "vscode": {
     "languageId": "shellscript"
    }
   },
   "outputs": [
    {
     "data": {
      "application/vnd.jupyter.widget-view+json": {
       "model_id": "a962d772bfb343d8971633acafbbbd12",
       "version_major": 2,
       "version_minor": 0
      },
      "text/plain": [
       "DatePicker(value=None, description='Pick a Date', step=1)"
      ]
     },
     "metadata": {},
     "output_type": "display_data"
    },
    {
     "data": {
      "application/vnd.jupyter.widget-view+json": {
       "model_id": "239066d0fc094ecc864fc4f977ee4b8c",
       "version_major": 2,
       "version_minor": 0
      },
      "text/plain": [
       "DatetimePicker(value=None, description='Pick a Date and time')"
      ]
     },
     "metadata": {},
     "output_type": "display_data"
    }
   ],
   "source": [
    "from IPython.display import display\n",
    "import ipywidgets as widgets\n",
    "w = widgets.DatePicker(\n",
    "    description='Pick a Date',\n",
    "    disabled=False\n",
    ")\n",
    "w2 = widgets.DatetimePicker(\n",
    "    description='Pick a Date and time',\n",
    "    disabled=False\n",
    ")\n",
    "display(w, w2)"
   ]
  },
  {
   "cell_type": "code",
   "execution_count": 16,
   "metadata": {
    "vscode": {
     "languageId": "shellscript"
    }
   },
   "outputs": [
    {
     "name": "stdout",
     "output_type": "stream",
     "text": [
      "None 2023-10-14 22:18:00+08:00\n"
     ]
    }
   ],
   "source": [
    "w.value\n",
    "w2.value\n",
    "!echo {w.value} {w2.value}"
   ]
  },
  {
   "cell_type": "code",
   "execution_count": 19,
   "metadata": {
    "vscode": {
     "languageId": "shellscript"
    }
   },
   "outputs": [
    {
     "name": "stdout",
     "output_type": "stream",
     "text": [
      "None, 2023-10-14 22:18:00+08:00\n"
     ]
    },
    {
     "name": "stderr",
     "output_type": "stream",
     "text": [
      "date: invalid date ‘None’\n"
     ]
    },
    {
     "name": "stdout",
     "output_type": "stream",
     "text": [
      "1697293080\n"
     ]
    }
   ],
   "source": [
    "%%bash -s \"$w.value\" \"$w2.value\"\n",
    "echo $1, $2\n",
    "date -d \"$1\" +%s\n",
    "date -d \"$2\" +%s"
   ]
  }
 ],
 "metadata": {
  "kernelspec": {
   "display_name": "Python 3 (ipykernel)",
   "language": "python",
   "name": "python3"
  },
  "language_info": {
   "codemirror_mode": {
    "name": "ipython",
    "version": 3
   },
   "file_extension": ".py",
   "mimetype": "text/x-python",
   "name": "python",
   "nbconvert_exporter": "python",
   "pygments_lexer": "ipython3",
   "version": "3.12.0"
  }
 },
 "nbformat": 4,
 "nbformat_minor": 2
}
