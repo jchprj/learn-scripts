{
 "cells": [
  {
   "cell_type": "markdown",
   "metadata": {},
   "source": [
    "[Can I access python variables within a \\`%%bash\\` or \\`%%script\\` ipython notebook cell? - Stack Overflow](https://stackoverflow.com/questions/19579546/can-i-access-python-variables-within-a-bash-or-script-ipython-notebook-c)"
   ]
  },
  {
   "cell_type": "code",
   "execution_count": 6,
   "metadata": {},
   "outputs": [
    {
     "name": "stdout",
     "output_type": "stream",
     "text": [
      "['3'] 3\n"
     ]
    }
   ],
   "source": [
    "a=1\n",
    "b=2"
   ]
  },
  {
   "cell_type": "code",
   "execution_count": 3,
   "metadata": {},
   "outputs": [
    {
     "name": "stdout",
     "output_type": "stream",
     "text": [
      "This bash script knows about 1 and 2\n"
     ]
    }
   ],
   "source": [
    "%%bash -s \"$a\" \"$b\"\n",
    "echo \"This bash script knows about $1 and $2\""
   ]
  },
  {
   "cell_type": "markdown",
   "metadata": {},
   "source": [
    "[bash - How do I assign the output of a command to a variable in Jupyter notebook? - Stack Overflow](https://stackoverflow.com/questions/60999015/how-do-i-assign-the-output-of-a-command-to-a-variable-in-jupyter-notebook)\n"
   ]
  },
  {
   "cell_type": "code",
   "execution_count": 11,
   "metadata": {},
   "outputs": [
    {
     "name": "stdout",
     "output_type": "stream",
     "text": [
      "['3'] 3\n"
     ]
    }
   ],
   "source": [
    "c=!echo 3\n",
    "!echo {c} {c[0]}"
   ]
  },
  {
   "cell_type": "markdown",
   "metadata": {},
   "source": [
    "[python - Passing IPython variables as arguments to bash commands - Stack Overflow](https://stackoverflow.com/questions/35497069/passing-ipython-variables-as-arguments-to-bash-commands)"
   ]
  },
  {
   "cell_type": "code",
   "execution_count": 17,
   "metadata": {},
   "outputs": [
    {
     "name": "stdout",
     "output_type": "stream",
     "text": [
      "/home/foo/bar\n",
      "/home/foo/bar\n",
      "../_data/titanicdata.htm\n"
     ]
    }
   ],
   "source": [
    "dir_path = \"/home/foo/bar\"\n",
    "!echo {dir_path}\n",
    "!echo $dir_path\n",
    "path = \"../_data/\"\n",
    "filename = \"titanicdata.htm\"\n",
    "!echo {path + filename}"
   ]
  },
  {
   "cell_type": "markdown",
   "metadata": {},
   "source": [
    "[python - Pipe Ipython magic output to a variable? - Stack Overflow](https://stackoverflow.com/questions/20704063/pipe-ipython-magic-output-to-a-variable)"
   ]
  },
  {
   "cell_type": "code",
   "execution_count": 11,
   "metadata": {},
   "outputs": [],
   "source": [
    "%%bash --out out\n",
    "echo 123"
   ]
  },
  {
   "cell_type": "code",
   "execution_count": 13,
   "metadata": {},
   "outputs": [
    {
     "data": {
      "text/plain": [
       "'123\\n'"
      ]
     },
     "execution_count": 13,
     "metadata": {},
     "output_type": "execute_result"
    }
   ],
   "source": [
    "out"
   ]
  }
 ],
 "metadata": {
  "kernelspec": {
   "display_name": "Python 3",
   "language": "python",
   "name": "python3"
  },
  "language_info": {
   "codemirror_mode": {
    "name": "ipython",
    "version": 3
   },
   "file_extension": ".py",
   "mimetype": "text/x-python",
   "name": "python",
   "nbconvert_exporter": "python",
   "pygments_lexer": "ipython3",
   "version": "3.10.6"
  }
 },
 "nbformat": 4,
 "nbformat_minor": 2
}
