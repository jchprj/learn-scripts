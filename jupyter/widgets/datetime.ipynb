{
 "cells": [
  {
   "cell_type": "markdown",
   "metadata": {},
   "source": [
    "[ipywidgets - How to use the information that is entered in Jupyter Widgets-Date picker? - Stack Overflow](https://stackoverflow.com/questions/69167951/how-to-use-the-information-that-is-entered-in-jupyter-widgets-date-picker)"
   ]
  },
  {
   "cell_type": "code",
   "execution_count": 8,
   "metadata": {
    "vscode": {
     "languageId": "shellscript"
    }
   },
   "outputs": [
    {
     "data": {
      "application/vnd.jupyter.widget-view+json": {
       "model_id": "55f397a7529245bba0467e45efd35b25",
       "version_major": 2,
       "version_minor": 0
      },
      "text/plain": [
       "DatePicker(value=None, description='Pick a Date', step=1)"
      ]
     },
     "metadata": {},
     "output_type": "display_data"
    },
    {
     "data": {
      "application/vnd.jupyter.widget-view+json": {
       "model_id": "5a3fe25925f64fecaaf0870fe2433c17",
       "version_major": 2,
       "version_minor": 0
      },
      "text/plain": [
       "DatetimePicker(value=None, description='Pick a Date and time')"
      ]
     },
     "metadata": {},
     "output_type": "display_data"
    },
    {
     "data": {
      "application/vnd.jupyter.widget-view+json": {
       "model_id": "a923501b2f96408fbb770c214b9f3d06",
       "version_major": 2,
       "version_minor": 0
      },
      "text/plain": [
       "TimePicker(value=None, description='Pick a Time', step=60.0)"
      ]
     },
     "metadata": {},
     "output_type": "display_data"
    },
    {
     "data": {
      "application/vnd.jupyter.widget-view+json": {
       "model_id": "de4a2efdf7aa4b7c8c68598fad251ebd",
       "version_major": 2,
       "version_minor": 0
      },
      "text/plain": [
       "NaiveDatetimePicker(value=None, description='Pick a Time')"
      ]
     },
     "metadata": {},
     "output_type": "display_data"
    }
   ],
   "source": [
    "from IPython.display import display\n",
    "import ipywidgets as widgets\n",
    "w = widgets.DatePicker(\n",
    "    description='Pick a Date',\n",
    "    disabled=False\n",
    ")\n",
    "w2 = widgets.DatetimePicker(\n",
    "    description='Pick a Date and time',\n",
    "    disabled=False\n",
    ")\n",
    "w3 = widgets.TimePicker(\n",
    "    description='Pick a Time',\n",
    "    disabled=False\n",
    ")\n",
    "w4 = widgets.NaiveDatetimePicker(description='Pick a Time')\n",
    "display(w, w2, w3, w4)"
   ]
  },
  {
   "cell_type": "code",
   "execution_count": 6,
   "metadata": {
    "vscode": {
     "languageId": "shellscript"
    }
   },
   "outputs": [
    {
     "name": "stdout",
     "output_type": "stream",
     "text": [
      "2023-10-12 2023-10-12 18:15:00+08:00\n"
     ]
    }
   ],
   "source": [
    "w.value\n",
    "w2.value\n",
    "!echo {w.value} {w2.value}"
   ]
  },
  {
   "cell_type": "code",
   "execution_count": 7,
   "metadata": {
    "vscode": {
     "languageId": "shellscript"
    }
   },
   "outputs": [
    {
     "name": "stdout",
     "output_type": "stream",
     "text": [
      "2023-10-12, 2023-10-12 18:15:00+08:00\n",
      "1697040000\n",
      "1697105700\n"
     ]
    }
   ],
   "source": [
    "%%bash -s \"$w.value\" \"$w2.value\"\n",
    "echo $1, $2\n",
    "date -d \"$1\" +%s\n",
    "date -d \"$2\" +%s"
   ]
  }
 ],
 "metadata": {
  "kernelspec": {
   "display_name": "Python 3 (ipykernel)",
   "language": "python",
   "name": "python3"
  },
  "language_info": {
   "codemirror_mode": {
    "name": "ipython",
    "version": 3
   },
   "file_extension": ".py",
   "mimetype": "text/x-python",
   "name": "python",
   "nbconvert_exporter": "python",
   "pygments_lexer": "ipython3",
   "version": "3.11.6"
  }
 },
 "nbformat": 4,
 "nbformat_minor": 2
}
