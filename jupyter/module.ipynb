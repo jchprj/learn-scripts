{
 "cells": [
  {
   "cell_type": "code",
   "execution_count": null,
   "metadata": {},
   "outputs": [],
   "source": [
    "def factorial(n):\n",
    "    if n == 0:\n",
    "        return 1\n",
    "    else:\n",
    "        return n * factorial(n-1)"
   ]
  },
  {
   "cell_type": "markdown",
   "metadata": {},
   "source": [
    "[python - import a function from another .ipynb file - Stack Overflow](https://stackoverflow.com/questions/44116194/import-a-function-from-another-ipynb-file)\n",
    "\n",
    "[incorrect version or language · Issue #49 · ipython/ipynb](https://github.com/ipython/ipynb/issues/49)\n",
    "\n",
    "    {\n",
    "        ...\n",
    "        \"metadata\": {\n",
    "            ...\n",
    "            \"kernelspec\": {\n",
    "            ...\n",
    "            \"language\": \"python\" # <--- added line\n",
    "            }\n",
    "        ...\n",
    "    }"
   ]
  },
  {
   "cell_type": "code",
   "execution_count": 4,
   "metadata": {},
   "outputs": [],
   "source": [
    "def get_dir():\n",
    "    !dir"
   ]
  }
 ],
 "metadata": {
  "kernelspec": {
   "display_name": "Python 3",
   "language": "python",
   "name": "python3"
  },
  "language_info": {
   "codemirror_mode": {
    "name": "ipython",
    "version": 3
   },
   "file_extension": ".py",
   "mimetype": "text/x-python",
   "name": "python",
   "nbconvert_exporter": "python",
   "pygments_lexer": "ipython3",
   "version": "3.10.6"
  }
 },
 "nbformat": 4,
 "nbformat_minor": 2
}
