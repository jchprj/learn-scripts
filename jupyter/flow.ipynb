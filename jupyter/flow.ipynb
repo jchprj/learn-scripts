{
 "cells": [
  {
   "cell_type": "markdown",
   "metadata": {},
   "source": [
    "[python - Run parts of a ipython notebook in a loop / with different input parameter - Stack Overflow](https://stackoverflow.com/questions/15635341/run-parts-of-a-ipython-notebook-in-a-loop-with-different-input-parameter)"
   ]
  },
  {
   "cell_type": "code",
   "execution_count": null,
   "metadata": {},
   "outputs": [],
   "source": [
    "import papermill as pm\n",
    "\n",
    "pm.execute_notebook(\n",
    "   'variables.ipynb',\n",
    "   'temp_test.ipynb',\n",
    "   parameters=dict(alpha=0.6, ratio=0.1)\n",
    ")"
   ]
  }
 ],
 "metadata": {
  "kernelspec": {
   "display_name": "Python 3 (ipykernel)",
   "language": "python",
   "name": "python3"
  }
 },
 "nbformat": 4,
 "nbformat_minor": 2
}
