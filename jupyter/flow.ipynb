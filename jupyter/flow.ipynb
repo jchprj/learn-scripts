{
 "cells": [
  {
   "cell_type": "markdown",
   "metadata": {},
   "source": [
    "[python - Run parts of a ipython notebook in a loop / with different input parameter - Stack Overflow](https://stackoverflow.com/questions/15635341/run-parts-of-a-ipython-notebook-in-a-loop-with-different-input-parameter)\n",
    "\n",
    "[airflow.providers.papermill.operators.papermill — apache-airflow-providers-papermill Documentation](https://airflow.apache.org/docs/apache-airflow-providers-papermill/1.0.0/_modules/airflow/providers/papermill/operators/papermill.html)\n",
    "\n",
    "    progress_bar=False"
   ]
  },
  {
   "cell_type": "code",
   "execution_count": null,
   "metadata": {},
   "outputs": [],
   "source": [
    "import papermill as pm\n",
    "\n",
    "pm.execute_notebook(\n",
    "   'variables.ipynb',\n",
    "   'temp_test.ipynb',\n",
    "   parameters=dict(alpha=0.6, ratio=0.1)\n",
    ")"
   ]
  },
  {
   "cell_type": "markdown",
   "metadata": {},
   "source": [
    "[nteract/scrapbook: A library for recording and reading data in notebooks.](https://github.com/nteract/scrapbook)\n",
    "\n",
    "[How to retrieve the outputs of a Notebook using Papermill? · Issue #597 · nteract/papermill](https://github.com/nteract/papermill/issues/597)\n",
    "\n",
    "[read\\_notebook API - scrapbook 0.5.0 documentation](https://nteract-scrapbook.readthedocs.io/en/latest/usage-read-notebook.html)"
   ]
  },
  {
   "cell_type": "code",
   "execution_count": 4,
   "metadata": {},
   "outputs": [
    {
     "name": "stdout",
     "output_type": "stream",
     "text": [
      "{}\n"
     ]
    }
   ],
   "source": [
    "import scrapbook as sb\n",
    "nb = sb.read_notebook(\"test.ipynb\")\n",
    "print(nb.scraps.data_dict)"
   ]
  },
  {
   "cell_type": "code",
   "execution_count": 8,
   "metadata": {},
   "outputs": [
    {
     "name": "stdout",
     "output_type": "stream",
     "text": [
      "The autoreload extension is already loaded. To reload it, use:\n",
      "  %reload_ext autoreload\n",
      "1\n"
     ]
    }
   ],
   "source": [
    "# https://stackoverflow.com/questions/5364050/reloading-submodules-in-ipython\n",
    "%load_ext autoreload\n",
    "%autoreload 2\n",
    "\n",
    "import module\n",
    "module.a()"
   ]
  },
  {
   "cell_type": "code",
   "execution_count": 5,
   "metadata": {},
   "outputs": [
    {
     "name": "stdout",
     "output_type": "stream",
     "text": [
      "The autoreload extension is already loaded. To reload it, use:\n",
      "  %reload_ext autoreload\n"
     ]
    },
    {
     "data": {
      "text/plain": [
       "120"
      ]
     },
     "execution_count": 5,
     "metadata": {},
     "output_type": "execute_result"
    }
   ],
   "source": [
    "%load_ext autoreload\n",
    "%autoreload 2\n",
    "\n",
    "from ipynb.fs.full.module import factorial\n",
    "factorial(5)"
   ]
  },
  {
   "cell_type": "code",
   "execution_count": 2,
   "metadata": {},
   "outputs": [
    {
     "name": "stdout",
     "output_type": "stream",
     "text": [
      " Volume in drive C is Windows\n",
      " Volume Serial Number is 165A-8822\n",
      "\n",
      " Directory of c:\\Users\\juechen\\OneDrive\\Projects\\jchprj\\learn-scripts\\jupyter\n",
      "\n",
      "11/10/2023  05:41 PM    <DIR>          .\n",
      "10/28/2023  07:18 PM    <DIR>          ..\n",
      "10/25/2023  09:55 PM             4,152 cell magics.ipynb\n",
      "11/10/2023  05:55 PM             6,427 flow.ipynb\n",
      "11/06/2023  12:55 PM               215 HelloWorld.ipynb\n",
      "11/10/2023  05:53 PM             1,507 module.ipynb\n",
      "10/28/2023  11:29 PM                22 module.py\n",
      "11/04/2023  03:55 PM         3,763,239 other.ipynb\n",
      "11/08/2023  02:03 AM             3,083 README.md\n",
      "10/25/2023  09:50 PM                10 temp_test\n",
      "11/05/2023  04:01 PM         3,714,375 test.ipynb\n",
      "11/02/2023  01:36 AM             3,355 variables.ipynb\n",
      "11/04/2023  03:42 PM    <DIR>          widgets\n",
      "10/28/2023  11:29 PM    <DIR>          __pycache__\n",
      "              10 File(s)      7,496,385 bytes\n",
      "               4 Dir(s)  195,962,679,296 bytes free\n"
     ]
    }
   ],
   "source": [
    "%run module.ipynb\n",
    "get_dir()"
   ]
  },
  {
   "cell_type": "markdown",
   "metadata": {},
   "source": [
    "[Printing output to another cell in a jupyter notebook · Issue #5304 · jupyter/notebook](https://github.com/jupyter/notebook/issues/5304)  \n",
    "[python - Can I print output to another cell in a jupyter notebook? - Stack Overflow](https://stackoverflow.com/questions/60803057/can-i-print-output-to-another-cell-in-a-jupyter-notebook)"
   ]
  },
  {
   "cell_type": "code",
   "execution_count": 1,
   "metadata": {},
   "outputs": [
    {
     "data": {},
     "metadata": {},
     "output_type": "display_data"
    },
    {
     "data": {
      "text/plain": [
       "'s'"
      ]
     },
     "metadata": {},
     "output_type": "display_data"
    }
   ],
   "source": [
    "from IPython.display import display\n",
    "h = display(display_id='my-display')\n",
    "h.display(None)"
   ]
  },
  {
   "cell_type": "code",
   "execution_count": 2,
   "metadata": {},
   "outputs": [],
   "source": [
    "h.update(\"s\")"
   ]
  },
  {
   "cell_type": "markdown",
   "metadata": {},
   "source": [
    "[python - ipython notebook clear cell output in code - Stack Overflow](https://stackoverflow.com/questions/24816237/ipython-notebook-clear-cell-output-in-code)\n",
    "\n",
    "    Using the clear_output(wait=True) will generally make the result nicer if you have clear_output inside a loop."
   ]
  },
  {
   "cell_type": "code",
   "execution_count": 16,
   "metadata": {},
   "outputs": [
    {
     "name": "stdout",
     "output_type": "stream",
     "text": [
      "Hello World!\n"
     ]
    }
   ],
   "source": [
    "from IPython.display import clear_output\n",
    "for i in range(10):\n",
    "    clear_output(wait=True)\n",
    "    print(\"Hello World!\")"
   ]
  },
  {
   "cell_type": "markdown",
   "metadata": {},
   "source": [
    "[python - How to embed HTML into IPython output? - Stack Overflow](https://stackoverflow.com/questions/25698448/how-to-embed-html-into-ipython-output)"
   ]
  },
  {
   "cell_type": "code",
   "execution_count": 1,
   "metadata": {},
   "outputs": [
    {
     "data": {
      "text/html": [
       "<h1>Hello, world!</h1>"
      ],
      "text/plain": [
       "<IPython.core.display.HTML object>"
      ]
     },
     "metadata": {},
     "output_type": "display_data"
    }
   ],
   "source": [
    "from IPython.display import display, HTML\n",
    "display(HTML('<h1>Hello, world!</h1>'))"
   ]
  },
  {
   "cell_type": "markdown",
   "metadata": {},
   "source": [
    "[python - jupyter notebook: how to stop cell execution programmatically while continuing running subsequent cells - Stack Overflow](https://stackoverflow.com/questions/60541066/jupyter-notebook-how-to-stop-cell-execution-programmatically-while-continuing-r)"
   ]
  },
  {
   "cell_type": "code",
   "execution_count": 1,
   "metadata": {},
   "outputs": [
    {
     "ename": "SystemExit",
     "evalue": "Stop here",
     "output_type": "error",
     "traceback": [
      "An exception has occurred, use %tb to see the full traceback.\n",
      "\u001b[1;31mSystemExit\u001b[0m\u001b[1;31m:\u001b[0m Stop here\n"
     ]
    },
    {
     "name": "stderr",
     "output_type": "stream",
     "text": [
      "C:\\Users\\juechen\\AppData\\Roaming\\Python\\Python311\\site-packages\\IPython\\core\\interactiveshell.py:3558: UserWarning: To exit: use 'exit', 'quit', or Ctrl-D.\n",
      "  warn(\"To exit: use 'exit', 'quit', or Ctrl-D.\", stacklevel=1)\n"
     ]
    }
   ],
   "source": [
    "raise SystemExit(\"Stop here\")"
   ]
  }
 ],
 "metadata": {
  "kernelspec": {
   "display_name": "Python 3 (ipykernel)",
   "language": "python",
   "name": "python3"
  },
  "language_info": {
   "codemirror_mode": {
    "name": "ipython",
    "version": 3
   },
   "file_extension": ".py",
   "mimetype": "text/x-python",
   "name": "python",
   "nbconvert_exporter": "python",
   "pygments_lexer": "ipython3",
   "version": "3.11.0"
  }
 },
 "nbformat": 4,
 "nbformat_minor": 2
}
